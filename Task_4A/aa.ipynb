{
 "cells": [
  {
   "cell_type": "code",
   "execution_count": 1,
   "metadata": {},
   "outputs": [],
   "source": [
    "from ultralytics import YOLO"
   ]
  },
  {
   "cell_type": "code",
   "execution_count": 2,
   "metadata": {},
   "outputs": [],
   "source": [
    "classes=['combat','destroyedbuilding','fire','humanitarianaid','militaryvehicles']"
   ]
  },
  {
   "cell_type": "code",
   "execution_count": 3,
   "metadata": {},
   "outputs": [],
   "source": [
    "model=YOLO(\"./best (12).pt\")"
   ]
  },
  {
   "cell_type": "markdown",
   "metadata": {},
   "source": [
    "Folder name"
   ]
  },
  {
   "cell_type": "code",
   "execution_count": 7,
   "metadata": {},
   "outputs": [
    {
     "name": "stdout",
     "output_type": "stream",
     "text": [
      "\n",
      "image 1/6 c:\\Users\\AAYUSH THE GREAT\\OneDrive\\Desktop\\udemy notes\\10.0+Display+Grid\\10.0 Display Grid\\event\\1.jpg: 160x160 militaryvehicles 0.99, destroyedbuilding 0.01, combat 0.00, humanitarianaid 0.00, fire 0.00, 159.0ms\n",
      "image 2/6 c:\\Users\\AAYUSH THE GREAT\\OneDrive\\Desktop\\udemy notes\\10.0+Display+Grid\\10.0 Display Grid\\event\\2.jpg: 160x160 destroyedbuilding 0.99, combat 0.01, militaryvehicles 0.00, humanitarianaid 0.00, fire 0.00, 123.9ms\n",
      "image 3/6 c:\\Users\\AAYUSH THE GREAT\\OneDrive\\Desktop\\udemy notes\\10.0+Display+Grid\\10.0 Display Grid\\event\\3.jpg: 160x160 militaryvehicles 0.98, fire 0.01, destroyedbuilding 0.01, humanitarianaid 0.00, combat 0.00, 106.4ms\n",
      "image 4/6 c:\\Users\\AAYUSH THE GREAT\\OneDrive\\Desktop\\udemy notes\\10.0+Display+Grid\\10.0 Display Grid\\event\\4.jpg: 160x160 humanitarianaid 0.50, destroyedbuilding 0.50, combat 0.00, militaryvehicles 0.00, fire 0.00, 104.4ms\n",
      "image 5/6 c:\\Users\\AAYUSH THE GREAT\\OneDrive\\Desktop\\udemy notes\\10.0+Display+Grid\\10.0 Display Grid\\event\\5.jpg: 160x160 combat 1.00, humanitarianaid 0.00, militaryvehicles 0.00, destroyedbuilding 0.00, fire 0.00, 92.4ms\n",
      "image 6/6 c:\\Users\\AAYUSH THE GREAT\\OneDrive\\Desktop\\udemy notes\\10.0+Display+Grid\\10.0 Display Grid\\event\\6.jpg: 160x160 combat 1.00, humanitarianaid 0.00, destroyedbuilding 0.00, militaryvehicles 0.00, fire 0.00, 101.7ms\n",
      "Speed: 2.9ms preprocess, 114.6ms inference, 0.0ms postprocess per image at shape (1, 3, 160, 160)\n"
     ]
    }
   ],
   "source": [
    "results = model(\"./event\",imgsz=160)"
   ]
  },
  {
   "cell_type": "code",
   "execution_count": 8,
   "metadata": {},
   "outputs": [
    {
     "name": "stdout",
     "output_type": "stream",
     "text": [
      "militaryvehicles\n",
      "destroyedbuilding\n",
      "militaryvehicles\n",
      "destroyedbuilding\n",
      "combat\n",
      "combat\n"
     ]
    }
   ],
   "source": [
    "for result in results:\n",
    "    extract=[]\n",
    "    lists=list(result.probs.data)\n",
    "#     print(lists)\n",
    "    for l in lists:\n",
    "        extract.append(round(l.item(),2))\n",
    "    max_acc=max(result.probs.data)\n",
    "#     print(extract)\n",
    "#     print(max_acc)\n",
    "    max_acc=round(max_acc.item(),2)\n",
    "    max_ind=extract.index(max_acc)\n",
    "#     print(max_ind)\n",
    "    print(classes[max_ind])\n",
    "#     print(max_ind)\n",
    "#     prob = list(result.probs)\n",
    "\n",
    "#     classes = result.names\n",
    "\n",
    "#     highest_prob = max(probs)\n",
    "#     highest_prob_index = probs.index(highest_prob)\n",
    "\n",
    "#     print(f\"Class: {classes[highest_prob_index]}\")"
   ]
  }
 ],
 "metadata": {
  "kernelspec": {
   "display_name": "Python 3",
   "language": "python",
   "name": "python3"
  },
  "language_info": {
   "codemirror_mode": {
    "name": "ipython",
    "version": 3
   },
   "file_extension": ".py",
   "mimetype": "text/x-python",
   "name": "python",
   "nbconvert_exporter": "python",
   "pygments_lexer": "ipython3",
   "version": "3.9.18"
  }
 },
 "nbformat": 4,
 "nbformat_minor": 2
}
